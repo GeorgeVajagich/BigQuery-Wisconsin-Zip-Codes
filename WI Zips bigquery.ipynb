{
 "cells": [
  {
   "cell_type": "code",
   "execution_count": 1,
   "id": "0b90da41-8837-47c8-ba1e-4546d384547f",
   "metadata": {},
   "outputs": [],
   "source": [
    "from pandas.io import gbq as pandas_gbq"
   ]
  },
  {
   "cell_type": "code",
   "execution_count": 2,
   "id": "d03a3b23-312d-4d95-908c-b4b613064360",
   "metadata": {},
   "outputs": [
    {
     "name": "stderr",
     "output_type": "stream",
     "text": [
      "C:\\Users\\Geord\\AppData\\Local\\Temp\\ipykernel_26172\\4189596108.py:1: FutureWarning: read_gbq is deprecated and will be removed in a future version. Please use pandas_gbq.read_gbq instead: https://pandas-gbq.readthedocs.io/en/latest/api.html#pandas_gbq.read_gbq\n",
      "  df = pandas_gbq.read_gbq(\"SELECT name, median_home_value FROM ZipCodes.Wisconsin WHERE median_household_income > 75 ORDER BY median_home_value\",project_id=\"plucky-bulwark-424923-q8\")\n"
     ]
    },
    {
     "name": "stdout",
     "output_type": "stream",
     "text": [
      "      name  median_home_value\n",
      "0    53031                0.0\n",
      "1    53127                0.0\n",
      "2    54978                0.0\n",
      "3    53939              122.3\n",
      "4    53942              122.5\n",
      "..     ...                ...\n",
      "298  53018              450.1\n",
      "299  53562              468.8\n",
      "300  53058              474.6\n",
      "301  53097              500.0\n",
      "302  53125              561.7\n",
      "\n",
      "[303 rows x 2 columns]\n"
     ]
    }
   ],
   "source": [
    "df = pandas_gbq.read_gbq(\"SELECT name, median_home_value FROM ZipCodes.Wisconsin WHERE median_household_income > 75 ORDER BY median_home_value\",project_id=\"plucky-bulwark-424923-q8\")\n",
    "print(df)"
   ]
  },
  {
   "cell_type": "code",
   "execution_count": 3,
   "id": "51e43099-518b-4753-a3f2-6b72ed7a78e1",
   "metadata": {},
   "outputs": [
    {
     "name": "stderr",
     "output_type": "stream",
     "text": [
      "C:\\Users\\Geord\\AppData\\Local\\Temp\\ipykernel_26172\\1361745401.py:1: FutureWarning: read_gbq is deprecated and will be removed in a future version. Please use pandas_gbq.read_gbq instead: https://pandas-gbq.readthedocs.io/en/latest/api.html#pandas_gbq.read_gbq\n",
      "  df = pandas_gbq.read_gbq(\"SELECT name, median_home_value FROM ZipCodes.Wisconsin WHERE bachelors_or_higher > 75 ORDER BY median_home_value\",project_id=\"plucky-bulwark-424923-q8\")\n"
     ]
    },
    {
     "name": "stdout",
     "output_type": "stream",
     "text": [
      "    name  median_home_value\n",
      "0  53705              427.4\n",
      "1  54211              457.3\n",
      "2  53726              586.6\n"
     ]
    }
   ],
   "source": [
    "df = pandas_gbq.read_gbq(\"SELECT name, median_home_value FROM ZipCodes.Wisconsin WHERE bachelors_or_higher > 75 ORDER BY median_home_value\",project_id=\"plucky-bulwark-424923-q8\")\n",
    "print(df)"
   ]
  },
  {
   "cell_type": "code",
   "execution_count": 4,
   "id": "4b084c47-1af5-4103-903b-8f0bf6794ca2",
   "metadata": {},
   "outputs": [
    {
     "name": "stderr",
     "output_type": "stream",
     "text": [
      "C:\\Users\\Geord\\AppData\\Local\\Temp\\ipykernel_26172\\1361745401.py:1: FutureWarning: read_gbq is deprecated and will be removed in a future version. Please use pandas_gbq.read_gbq instead: https://pandas-gbq.readthedocs.io/en/latest/api.html#pandas_gbq.read_gbq\n",
      "  df = pandas_gbq.read_gbq(\"SELECT name, median_home_value FROM ZipCodes.Wisconsin WHERE bachelors_or_higher > 75 ORDER BY median_home_value\",project_id=\"plucky-bulwark-424923-q8\")\n"
     ]
    },
    {
     "name": "stdout",
     "output_type": "stream",
     "text": [
      "    name  median_home_value\n",
      "0  53705              427.4\n",
      "1  54211              457.3\n",
      "2  53726              586.6\n"
     ]
    }
   ],
   "source": [
    "df = pandas_gbq.read_gbq(\"SELECT name, median_home_value FROM ZipCodes.Wisconsin WHERE bachelors_or_higher > 75 ORDER BY median_home_value\",project_id=\"plucky-bulwark-424923-q8\")\n",
    "print(df)"
   ]
  },
  {
   "cell_type": "code",
   "execution_count": 7,
   "id": "08db9c4c",
   "metadata": {},
   "outputs": [
    {
     "name": "stderr",
     "output_type": "stream",
     "text": [
      "C:\\Users\\Geord\\AppData\\Local\\Temp\\ipykernel_26172\\2433312933.py:1: FutureWarning: read_gbq is deprecated and will be removed in a future version. Please use pandas_gbq.read_gbq instead: https://pandas-gbq.readthedocs.io/en/latest/api.html#pandas_gbq.read_gbq\n",
      "  df = pandas_gbq.read_gbq(\"SELECT name, median_home_value FROM ZipCodes.Wisconsin WHERE bachelors_or_higher > 33 AND owner_occupied < 66 ORDER BY median_home_value\",project_id=\"plucky-bulwark-424923-q8\")\n"
     ]
    },
    {
     "name": "stdout",
     "output_type": "stream",
     "text": [
      "     name  median_home_value\n",
      "0   54481              178.0\n",
      "1   54911              182.6\n",
      "2   53212              187.8\n",
      "3   54301              193.7\n",
      "4   53818              199.4\n",
      "5   54601              201.7\n",
      "6   53207              206.2\n",
      "7   54751              219.4\n",
      "8   54720              222.0\n",
      "9   54467              223.2\n",
      "10  53228              239.4\n",
      "11  53713              241.0\n",
      "12  54701              242.6\n",
      "13  53714              251.8\n",
      "14  53186              256.8\n",
      "15  53704              268.4\n",
      "16  53130              275.3\n",
      "17  53154              282.5\n",
      "18  53226              286.0\n",
      "19  53202              287.1\n",
      "20  53213              298.6\n",
      "21  54155              304.7\n",
      "22  53718              309.6\n",
      "23  53719              337.2\n",
      "24  53598              356.9\n",
      "25  53717              366.0\n",
      "26  53711              369.3\n",
      "27  53211              391.7\n",
      "28  53715              410.7\n",
      "29  53203              412.8\n",
      "30  53705              427.4\n",
      "31  53703              461.6\n",
      "32  53562              468.8\n",
      "33  53726              586.6\n"
     ]
    }
   ],
   "source": [
    "df = pandas_gbq.read_gbq(\"SELECT name, median_home_value FROM ZipCodes.Wisconsin WHERE bachelors_or_higher > 33 AND owner_occupied < 66 ORDER BY median_home_value\",project_id=\"plucky-bulwark-424923-q8\")\n",
    "print(df)"
   ]
  },
  {
   "cell_type": "code",
   "execution_count": 8,
   "id": "44b41559",
   "metadata": {},
   "outputs": [
    {
     "name": "stderr",
     "output_type": "stream",
     "text": [
      "C:\\Users\\Geord\\AppData\\Local\\Temp\\ipykernel_26172\\2103788377.py:1: FutureWarning: read_gbq is deprecated and will be removed in a future version. Please use pandas_gbq.read_gbq instead: https://pandas-gbq.readthedocs.io/en/latest/api.html#pandas_gbq.read_gbq\n",
      "  df = pandas_gbq.read_gbq(\"SELECT name, median_home_value FROM ZipCodes.Wisconsin WHERE bachelors_or_higher < 33 AND owner_occupied > 66 ORDER BY median_home_value\",project_id=\"plucky-bulwark-424923-q8\")\n"
     ]
    },
    {
     "name": "stdout",
     "output_type": "stream",
     "text": [
      "      name  median_home_value\n",
      "0    53127                0.0\n",
      "1    54978                0.0\n",
      "2    53099                0.0\n",
      "3    53192                0.0\n",
      "4    53584                0.0\n",
      "..     ...                ...\n",
      "559  53036              333.6\n",
      "560  53078              334.7\n",
      "561  53529              345.6\n",
      "562  53561              370.6\n",
      "563  53069              403.3\n",
      "\n",
      "[564 rows x 2 columns]\n"
     ]
    }
   ],
   "source": [
    "df = pandas_gbq.read_gbq(\"SELECT name, median_home_value FROM ZipCodes.Wisconsin WHERE bachelors_or_higher < 33 AND owner_occupied > 66 ORDER BY median_home_value\",project_id=\"plucky-bulwark-424923-q8\")\n",
    "print(df)"
   ]
  }
 ],
 "metadata": {
  "kernelspec": {
   "display_name": "Python 3 (ipykernel)",
   "language": "python",
   "name": "python3"
  },
  "language_info": {
   "codemirror_mode": {
    "name": "ipython",
    "version": 3
   },
   "file_extension": ".py",
   "mimetype": "text/x-python",
   "name": "python",
   "nbconvert_exporter": "python",
   "pygments_lexer": "ipython3",
   "version": "3.12.2"
  }
 },
 "nbformat": 4,
 "nbformat_minor": 5
}
