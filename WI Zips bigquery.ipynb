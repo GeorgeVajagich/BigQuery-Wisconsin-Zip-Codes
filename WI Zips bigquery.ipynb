{
 "cells": [
  {
   "cell_type": "code",
   "execution_count": 4,
   "id": "0b90da41-8837-47c8-ba1e-4546d384547f",
   "metadata": {},
   "outputs": [],
   "source": [
    "from pandas.io import gbq as pandas_gbq"
   ]
  },
  {
   "cell_type": "code",
   "execution_count": 5,
   "id": "d03a3b23-312d-4d95-908c-b4b613064360",
   "metadata": {},
   "outputs": [
    {
     "name": "stderr",
     "output_type": "stream",
     "text": [
      "C:\\Users\\Geord\\AppData\\Local\\Temp\\ipykernel_32088\\4189596108.py:1: FutureWarning: read_gbq is deprecated and will be removed in a future version. Please use pandas_gbq.read_gbq instead: https://pandas-gbq.readthedocs.io/en/latest/api.html#pandas_gbq.read_gbq\n",
      "  df = pandas_gbq.read_gbq(\"SELECT name, median_home_value FROM ZipCodes.Wisconsin WHERE median_household_income > 75 ORDER BY median_home_value\",project_id=\"plucky-bulwark-424923-q8\")\n"
     ]
    },
    {
     "name": "stdout",
     "output_type": "stream",
     "text": [
      "      name  median_home_value\n",
      "0    53031                0.0\n",
      "1    53127                0.0\n",
      "2    54978                0.0\n",
      "3    53939              122.3\n",
      "4    53942              122.5\n",
      "..     ...                ...\n",
      "298  53018              450.1\n",
      "299  53562              468.8\n",
      "300  53058              474.6\n",
      "301  53097              500.0\n",
      "302  53125              561.7\n",
      "\n",
      "[303 rows x 2 columns]\n"
     ]
    }
   ],
   "source": [
    "df = pandas_gbq.read_gbq(\"SELECT name, median_home_value FROM ZipCodes.Wisconsin WHERE median_household_income > 75 ORDER BY median_home_value\",project_id=\"plucky-bulwark-424923-q8\")\n",
    "print(df)"
   ]
  },
  {
   "cell_type": "code",
   "execution_count": 6,
   "id": "bbeb2f90-63a9-4007-bb50-b561bbf7e254",
   "metadata": {},
   "outputs": [
    {
     "name": "stderr",
     "output_type": "stream",
     "text": [
      "C:\\Users\\Geord\\AppData\\Local\\Temp\\ipykernel_32088\\4189596108.py:1: FutureWarning: read_gbq is deprecated and will be removed in a future version. Please use pandas_gbq.read_gbq instead: https://pandas-gbq.readthedocs.io/en/latest/api.html#pandas_gbq.read_gbq\n",
      "  df = pandas_gbq.read_gbq(\"SELECT name, median_home_value FROM ZipCodes.Wisconsin WHERE median_household_income > 75 ORDER BY median_home_value\",project_id=\"plucky-bulwark-424923-q8\")\n"
     ]
    },
    {
     "name": "stdout",
     "output_type": "stream",
     "text": [
      "      name  median_home_value\n",
      "0    53031                0.0\n",
      "1    53127                0.0\n",
      "2    54978                0.0\n",
      "3    53939              122.3\n",
      "4    53942              122.5\n",
      "..     ...                ...\n",
      "298  53018              450.1\n",
      "299  53562              468.8\n",
      "300  53058              474.6\n",
      "301  53097              500.0\n",
      "302  53125              561.7\n",
      "\n",
      "[303 rows x 2 columns]\n"
     ]
    }
   ],
   "source": [
    "df = pandas_gbq.read_gbq(\"SELECT name, median_home_value FROM ZipCodes.Wisconsin WHERE median_household_income > 75 ORDER BY median_home_value\",project_id=\"plucky-bulwark-424923-q8\")\n",
    "print(df)"
   ]
  },
  {
   "cell_type": "code",
   "execution_count": 7,
   "id": "51e43099-518b-4753-a3f2-6b72ed7a78e1",
   "metadata": {},
   "outputs": [
    {
     "name": "stderr",
     "output_type": "stream",
     "text": [
      "C:\\Users\\Geord\\AppData\\Local\\Temp\\ipykernel_32088\\1361745401.py:1: FutureWarning: read_gbq is deprecated and will be removed in a future version. Please use pandas_gbq.read_gbq instead: https://pandas-gbq.readthedocs.io/en/latest/api.html#pandas_gbq.read_gbq\n",
      "  df = pandas_gbq.read_gbq(\"SELECT name, median_home_value FROM ZipCodes.Wisconsin WHERE bachelors_or_higher > 75 ORDER BY median_home_value\",project_id=\"plucky-bulwark-424923-q8\")\n"
     ]
    },
    {
     "name": "stdout",
     "output_type": "stream",
     "text": [
      "    name  median_home_value\n",
      "0  53705              427.4\n",
      "1  54211              457.3\n",
      "2  53726              586.6\n"
     ]
    }
   ],
   "source": [
    "df = pandas_gbq.read_gbq(\"SELECT name, median_home_value FROM ZipCodes.Wisconsin WHERE bachelors_or_higher > 75 ORDER BY median_home_value\",project_id=\"plucky-bulwark-424923-q8\")\n",
    "print(df)"
   ]
  },
  {
   "cell_type": "code",
   "execution_count": 8,
   "id": "4b084c47-1af5-4103-903b-8f0bf6794ca2",
   "metadata": {},
   "outputs": [
    {
     "name": "stderr",
     "output_type": "stream",
     "text": [
      "C:\\Users\\Geord\\AppData\\Local\\Temp\\ipykernel_32088\\1361745401.py:1: FutureWarning: read_gbq is deprecated and will be removed in a future version. Please use pandas_gbq.read_gbq instead: https://pandas-gbq.readthedocs.io/en/latest/api.html#pandas_gbq.read_gbq\n",
      "  df = pandas_gbq.read_gbq(\"SELECT name, median_home_value FROM ZipCodes.Wisconsin WHERE bachelors_or_higher > 75 ORDER BY median_home_value\",project_id=\"plucky-bulwark-424923-q8\")\n"
     ]
    },
    {
     "name": "stdout",
     "output_type": "stream",
     "text": [
      "    name  median_home_value\n",
      "0  53705              427.4\n",
      "1  54211              457.3\n",
      "2  53726              586.6\n"
     ]
    }
   ],
   "source": [
    "df = pandas_gbq.read_gbq(\"SELECT name, median_home_value FROM ZipCodes.Wisconsin WHERE bachelors_or_higher > 75 ORDER BY median_home_value\",project_id=\"plucky-bulwark-424923-q8\")\n",
    "print(df)"
   ]
  }
 ],
 "metadata": {
  "kernelspec": {
   "display_name": "Python 3 (ipykernel)",
   "language": "python",
   "name": "python3"
  },
  "language_info": {
   "codemirror_mode": {
    "name": "ipython",
    "version": 3
   },
   "file_extension": ".py",
   "mimetype": "text/x-python",
   "name": "python",
   "nbconvert_exporter": "python",
   "pygments_lexer": "ipython3",
   "version": "3.12.2"
  }
 },
 "nbformat": 4,
 "nbformat_minor": 5
}
